{
 "cells": [
  {
   "metadata": {},
   "cell_type": "markdown",
   "source": [
    "# This is a sample Jupyter Notebook\n",
    "\n",
    "Below is an example of a code cell. \n",
    "Put your cursor into the cell and press Shift+Enter to execute it and select the next one, or click !here goes the icon of the corresponding button in the gutter! button.\n",
    "To debug a cell, press Alt+Shift+Enter, or click !here goes the icon of the corresponding button in the gutter! button.\n",
    "\n",
    "Press Double Shift to search everywhere for classes, files, tool windows, actions, and settings.\n",
    "\n",
    "To learn more about Jupyter Notebooks in PyCharm, see [help](https://www.jetbrains.com/help/pycharm/jupyter-notebook-support.html).\n",
    "For an overview of PyCharm, go to Help -> Learn IDE features or refer to [our documentation](https://www.jetbrains.com/help/pycharm/getting-started.html)."
   ],
   "id": "8a77807f92f26ee"
  },
  {
   "metadata": {},
   "cell_type": "markdown",
   "source": [
    "import pandas as pd\n",
    "import matplotlib.pyplot as plt\n",
    "import math\n",
    "import numpy as np\n",
    "from scipy import stats"
   ],
   "id": "d4e5ff8ddd25f2bf"
  },
  {
   "metadata": {},
   "cell_type": "markdown",
   "source": "X=pd.read_excel(\"PERIMETER.xlsx\")",
   "id": "a05f4831d1ec8d07"
  },
  {
   "metadata": {},
   "cell_type": "markdown",
   "source": "X.info()",
   "id": "51be473086cbbb1d"
  },
  {
   "metadata": {
    "ExecuteTime": {
     "end_time": "2024-06-10T07:07:47.112687Z",
     "start_time": "2024-06-10T07:07:47.098576Z"
    }
   },
   "cell_type": "code",
   "source": "X.head()",
   "id": "aaf7869f90d2a849",
   "outputs": [
    {
     "data": {
      "text/plain": [
       "   num        id diagnosis  perimeter var\n",
       "0  102    862722         B      43.79   P\n",
       "1  569     92751         B      47.92   P\n",
       "2  539    921092         B      47.98   P\n",
       "3  540    921362         B      48.34   P\n",
       "4   47  85713702         B      51.71   P"
      ],
      "text/html": [
       "<div>\n",
       "<style scoped>\n",
       "    .dataframe tbody tr th:only-of-type {\n",
       "        vertical-align: middle;\n",
       "    }\n",
       "\n",
       "    .dataframe tbody tr th {\n",
       "        vertical-align: top;\n",
       "    }\n",
       "\n",
       "    .dataframe thead th {\n",
       "        text-align: right;\n",
       "    }\n",
       "</style>\n",
       "<table border=\"1\" class=\"dataframe\">\n",
       "  <thead>\n",
       "    <tr style=\"text-align: right;\">\n",
       "      <th></th>\n",
       "      <th>num</th>\n",
       "      <th>id</th>\n",
       "      <th>diagnosis</th>\n",
       "      <th>perimeter</th>\n",
       "      <th>var</th>\n",
       "    </tr>\n",
       "  </thead>\n",
       "  <tbody>\n",
       "    <tr>\n",
       "      <th>0</th>\n",
       "      <td>102</td>\n",
       "      <td>862722</td>\n",
       "      <td>B</td>\n",
       "      <td>43.79</td>\n",
       "      <td>P</td>\n",
       "    </tr>\n",
       "    <tr>\n",
       "      <th>1</th>\n",
       "      <td>569</td>\n",
       "      <td>92751</td>\n",
       "      <td>B</td>\n",
       "      <td>47.92</td>\n",
       "      <td>P</td>\n",
       "    </tr>\n",
       "    <tr>\n",
       "      <th>2</th>\n",
       "      <td>539</td>\n",
       "      <td>921092</td>\n",
       "      <td>B</td>\n",
       "      <td>47.98</td>\n",
       "      <td>P</td>\n",
       "    </tr>\n",
       "    <tr>\n",
       "      <th>3</th>\n",
       "      <td>540</td>\n",
       "      <td>921362</td>\n",
       "      <td>B</td>\n",
       "      <td>48.34</td>\n",
       "      <td>P</td>\n",
       "    </tr>\n",
       "    <tr>\n",
       "      <th>4</th>\n",
       "      <td>47</td>\n",
       "      <td>85713702</td>\n",
       "      <td>B</td>\n",
       "      <td>51.71</td>\n",
       "      <td>P</td>\n",
       "    </tr>\n",
       "  </tbody>\n",
       "</table>\n",
       "</div>"
      ]
     },
     "execution_count": 37,
     "metadata": {},
     "output_type": "execute_result"
    }
   ],
   "execution_count": 37
  },
  {
   "metadata": {},
   "cell_type": "markdown",
   "source": [
    "perimeter=X[\"perimeter\"]\n",
    "min_perimeter, max_perimeter=min(perimeter),max(perimeter)\n",
    "n_bins=math.ceil((max_perimeter - min_perimeter))\n",
    "\n",
    "hist=np.histogram(perimeter, bins=n_bins)\n",
    "hist_dis=stats.rv_histogram(histogram=hist, density=True)\n",
    "\n",
    "_,_,z=plt.hist(perimeter, bins=n_bins, edgecolor='white' , density=True, label=\"Histograma\") \n",
    "eje_x=np.linspace(min_perimeter, max_perimeter, n_bins)\n",
    "plt.plot(eje_x, hist_dis.pdf(eje_x), label=\"PDF\")\n",
    "\n",
    "plt.title(\"Hsitograma de perimetro\")\n",
    "plt.xlabel(\"Longitud de perimetro\")\n",
    "plt.ylabel(\"numero de ocurrencias\")\n",
    "#plt.bar_label(z)\n",
    "plt.legend()\n",
    "plt.show()\n",
    "\n",
    "print(f\"Probabilidad de que perimetro = 88:  {hist_dis.pdf(88.59):.3f}\")"
   ],
   "id": "75eab81b949ed608"
  },
  {
   "metadata": {},
   "cell_type": "markdown",
   "source": [
    "def datos_sesgados(sesgo,cantidad, maximo):\n",
    "    aleatorios=stats.skewnorm.rvs(sesgo,\n",
    "                                  size=cantidad\n",
    "                                  ,random_state=1)\n",
    "    aleatorios=(aleatorios+abs(aleatorios.min()))\n",
    "    aleatorios=aleatorios/aleatorios.max()*maximo\n",
    "    return aleatorios\n",
    "\n",
    "datos=datos_sesgados(0,100000,100)\n",
    "\n",
    "tamano_muestra=[1,2,3,4,5,6,7,8,9,10,100,1000,10000]\n",
    "num_muestras=3000\n",
    "\n",
    "for tamano in tamano_muestra:\n",
    "    promedios=np.array([])\n",
    "    for i in range(num_muestras):\n",
    "        promedios=np.append(promedios\n",
    "                            ,np.random.choice(datos, tamano).mean())\n",
    "    plt.hist(promedios,bins=100, alpha=1)\n",
    "    plt.show()"
   ],
   "id": "4735d158a54dd90d"
  },
  {
   "metadata": {},
   "cell_type": "code",
   "outputs": [],
   "execution_count": null,
   "source": " ",
   "id": "a2899e409d01ba85"
  }
 ],
 "metadata": {
  "kernelspec": {
   "display_name": "Python 3",
   "language": "python",
   "name": "python3"
  },
  "language_info": {
   "codemirror_mode": {
    "name": "ipython",
    "version": 2
   },
   "file_extension": ".py",
   "mimetype": "text/x-python",
   "name": "python",
   "nbconvert_exporter": "python",
   "pygments_lexer": "ipython2",
   "version": "2.7.6"
  }
 },
 "nbformat": 4,
 "nbformat_minor": 5
}
